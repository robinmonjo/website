{
 "cells": [
  {
   "cell_type": "markdown",
   "id": "5b51b282-d334-4e5f-9e4d-aa0f7bdf076a",
   "metadata": {},
   "source": [
    "### Build liked tweets database\n",
    "\n",
    "Usage:\n",
    "1 - Use edit this cookie extension to save x.com cookies to `raw_x_cookies.json`\n",
    "2 - Run all the cells\n",
    "\n",
    "This will create a sqlite database.\n",
    "\n",
    "Note: deleted liked already synchronized won't be removed from the database, to do so, perform a full re-sync by deleting tweets.db file before running all the cells"
   ]
  },
  {
   "cell_type": "code",
   "execution_count": 1,
   "id": "059267ed-a28a-43df-9166-8d08b47a4082",
   "metadata": {},
   "outputs": [],
   "source": [
    "from twikit import Client\n",
    "import json"
   ]
  },
  {
   "cell_type": "code",
   "execution_count": 2,
   "id": "f11e30f0-39e7-4309-aa75-ad46fe7dcb5b",
   "metadata": {},
   "outputs": [],
   "source": [
    "with open(\"raw_x_cookies.json\", \"r\") as file:\n",
    "    cookies = json.load(file)"
   ]
  },
  {
   "cell_type": "markdown",
   "id": "e11c91f7-bf88-4ec9-acc9-405f8ae133bc",
   "metadata": {},
   "source": [
    "Convert cookie to twikit format"
   ]
  },
  {
   "cell_type": "code",
   "execution_count": 3,
   "id": "a1bcb27a-337a-4406-8a40-2e92cb7b84ef",
   "metadata": {},
   "outputs": [],
   "source": [
    "result = {}\n",
    "for item in cookies:\n",
    "    name = item.get(\"name\")\n",
    "    value = item.get(\"value\")\n",
    "    if name and value:\n",
    "        result[name] = value\n",
    "\n",
    "with open(\"x_cookies.json\", \"w\") as file:\n",
    "    json.dump(result, file, indent=4)"
   ]
  },
  {
   "cell_type": "code",
   "execution_count": 4,
   "id": "7a4e4cd2-3f3f-4a4b-a908-5e0494cb68ee",
   "metadata": {},
   "outputs": [],
   "source": [
    "client = Client(\"en-US\")\n",
    "client.load_cookies(\"x_cookies.json\")"
   ]
  },
  {
   "cell_type": "code",
   "execution_count": 5,
   "id": "fd098178-3d87-49e0-965f-784d206fe31c",
   "metadata": {},
   "outputs": [],
   "source": [
    "user = await client.get_user_by_screen_name(\"b0baille\")"
   ]
  },
  {
   "cell_type": "code",
   "execution_count": 6,
   "id": "0e114c62-8fa8-465a-bf60-33afbacb33de",
   "metadata": {},
   "outputs": [
    {
     "name": "stdout",
     "output_type": "stream",
     "text": [
      "None - None\n",
      "None - None\n",
      "None - None\n",
      "None - None\n",
      "None - None\n",
      "None - None\n",
      "None - None\n",
      "None - None\n",
      "None - None\n",
      "[{'display_url': 'pic.x.com/9Rfe0UvtMA', 'expanded_url': 'https://x.com/1a3orn/status/1845969548043829596/photo/1', 'id_str': '1845968181279555584', 'indices': [238, 261], 'media_key': '3_1845968181279555584', 'media_url_https': 'https://pbs.twimg.com/media/GZ4yR8_XgAAVIwT.png', 'type': 'photo', 'url': 'https://t.co/9Rfe0UvtMA', 'ext_media_availability': {'status': 'Available'}, 'features': {'large': {'faces': []}, 'medium': {'faces': []}, 'small': {'faces': []}, 'orig': {'faces': []}}, 'sizes': {'large': {'h': 546, 'w': 1260, 'resize': 'fit'}, 'medium': {'h': 520, 'w': 1200, 'resize': 'fit'}, 'small': {'h': 295, 'w': 680, 'resize': 'fit'}, 'thumb': {'h': 150, 'w': 150, 'resize': 'crop'}}, 'original_info': {'height': 546, 'width': 1260, 'focus_rects': [{'x': 0, 'y': 0, 'w': 975, 'h': 546}, {'x': 0, 'y': 0, 'w': 546, 'h': 546}, {'x': 0, 'y': 0, 'w': 479, 'h': 546}, {'x': 21, 'y': 0, 'w': 273, 'h': 546}, {'x': 0, 'y': 0, 'w': 1260, 'h': 546}]}}] - 1\n",
      "None - None\n",
      "[{'display_url': 'pic.x.com/w2j57Q4vrM', 'expanded_url': 'https://x.com/Devon_Eriksen_/status/1845633982689394910/video/1', 'id_str': '1845633900783054848', 'indices': [281, 304], 'media_key': '7_1845633900783054848', 'media_url_https': 'https://pbs.twimg.com/ext_tw_video_thumb/1845633900783054848/pu/img/eYAr5H_rjkqYvZkD.jpg', 'type': 'video', 'url': 'https://t.co/w2j57Q4vrM', 'additional_media_info': {'monetizable': False}, 'ext_media_availability': {'status': 'Available'}, 'sizes': {'large': {'h': 720, 'w': 1280, 'resize': 'fit'}, 'medium': {'h': 675, 'w': 1200, 'resize': 'fit'}, 'small': {'h': 383, 'w': 680, 'resize': 'fit'}, 'thumb': {'h': 150, 'w': 150, 'resize': 'crop'}}, 'original_info': {'height': 720, 'width': 1280, 'focus_rects': []}, 'video_info': {'aspect_ratio': [16, 9], 'duration_millis': 35370, 'variants': [{'content_type': 'application/x-mpegURL', 'url': 'https://video.twimg.com/ext_tw_video/1845633900783054848/pu/pl/ap4NQ6aKKhlGM5oN.m3u8?tag=12&v=d30'}, {'bitrate': 256000, 'content_type': 'video/mp4', 'url': 'https://video.twimg.com/ext_tw_video/1845633900783054848/pu/vid/avc1/480x270/dbszaHLFblCB4yCJ.mp4?tag=12'}, {'bitrate': 832000, 'content_type': 'video/mp4', 'url': 'https://video.twimg.com/ext_tw_video/1845633900783054848/pu/vid/avc1/640x360/1Q9w5qXYyV3YcQWj.mp4?tag=12'}, {'bitrate': 2176000, 'content_type': 'video/mp4', 'url': 'https://video.twimg.com/ext_tw_video/1845633900783054848/pu/vid/avc1/1280x720/yr930w6Ah9OBVPGP.mp4?tag=12'}]}}] - 1\n",
      "None - None\n",
      "None - None\n",
      "None - None\n",
      "None - None\n",
      "None - None\n",
      "None - None\n",
      "None - None\n",
      "None - None\n"
     ]
    }
   ],
   "source": [
    "tweets = await user.get_tweets(\"Likes\", 20)\n",
    "for t in tweets:\n",
    "    print(f\"{t.media} - {t.media and len(t.media)}\")"
   ]
  },
  {
   "cell_type": "code",
   "execution_count": 7,
   "id": "14deefd1-ad5b-487c-aae0-2bc5841da428",
   "metadata": {},
   "outputs": [],
   "source": [
    "import sqlite3\n",
    "\n",
    "# Connect to the SQLite database (or create it if it doesn't exist)\n",
    "conn = sqlite3.connect(\"../tweets/tweets.db\")\n",
    "\n",
    "# Create a cursor object to interact with the database\n",
    "cursor = conn.cursor()\n",
    "\n",
    "# Create a table only if it doesn't already exist\n",
    "cursor.execute(\"\"\"\n",
    "    CREATE TABLE IF NOT EXISTS tweets (\n",
    "        id TEXT PRIMARY KEY,\n",
    "        created_at DATETIME NOT NULL,\n",
    "        user_name TEXT NOT NULL,\n",
    "        text TEXT NOT NULL,\n",
    "        thumbnail_title TEXT,\n",
    "        thumbnail_url TEXT,\n",
    "        urls TEXT,\n",
    "        full_text TEXT NOT NULL,\n",
    "        media TEXT,\n",
    "        user_profile_image_url TEXT NOT NULL,\n",
    "        user_screen_name TEXT NOT NULL\n",
    "    )\n",
    "\"\"\")\n",
    "\n",
    "# Commit the changes\n",
    "conn.commit()"
   ]
  },
  {
   "cell_type": "code",
   "execution_count": 8,
   "id": "ffb693b7-27f1-4a6a-a346-43ea70ce3b83",
   "metadata": {},
   "outputs": [],
   "source": [
    "def import_tweet(tweet, count):\n",
    "    # check if tweet already in database\n",
    "    cursor.execute(\"SELECT COUNT(*) FROM tweets WHERE id = ?\", (tweet.id,))\n",
    "    count = cursor.fetchone()[0]\n",
    "    \n",
    "    if count > 0:\n",
    "        print(f\"Tweet {tweet.id} already in database\")\n",
    "        return False\n",
    "\n",
    "    cursor.execute(\"\"\"\n",
    "    INSERT INTO tweets (id, created_at, user_name, text, thumbnail_title, thumbnail_url, urls, full_text, media, user_profile_image_url, user_screen_name)\n",
    "    VALUES (?, ?, ?, ?, ?, ?, ?, ?, ?, ?, ?)\n",
    "    \"\"\", (\n",
    "        tweet.id, \n",
    "        tweet.created_at_datetime, \n",
    "        tweet.user.name, \n",
    "        tweet.text, \n",
    "        tweet.thumbnail_title, \n",
    "        tweet.thumbnail_url, \n",
    "        json.dumps(tweet.urls),\n",
    "        tweet.full_text,\n",
    "        json.dumps(tweet.media),\n",
    "        tweet.user.profile_image_url,\n",
    "        tweet.user.screen_name\n",
    "        )\n",
    "    )\n",
    "\n",
    "    return True"
   ]
  },
  {
   "cell_type": "code",
   "execution_count": 9,
   "id": "fabba41e-5d97-4f89-85af-758c38b4dad0",
   "metadata": {},
   "outputs": [],
   "source": [
    "async def iterate_tweets(fn):\n",
    "    tweets = await user.get_tweets(\"Likes\", 100)\n",
    "\n",
    "    count = 1\n",
    "    for t in tweets: \n",
    "        if fn(t, count): \n",
    "            count += 1\n",
    "        else: \n",
    "            return\n",
    "\n",
    "    while True:\n",
    "        tweets = await tweets.next()\n",
    "        if not tweets: return\n",
    "\n",
    "        for t in tweets:\n",
    "            if fn(t, count): \n",
    "                count += 1\n",
    "            else: \n",
    "                return\n"
   ]
  },
  {
   "cell_type": "code",
   "execution_count": 10,
   "id": "5a63312c-b108-4216-9f2b-10d282a8f6a8",
   "metadata": {},
   "outputs": [],
   "source": [
    "def count_tweets():\n",
    "    cursor.execute(\"SELECT COUNT(*) FROM tweets\")\n",
    "    return cursor.fetchone()[0]"
   ]
  },
  {
   "cell_type": "code",
   "execution_count": 11,
   "id": "5388cc26-b6e9-4ec7-861e-42a21df634bd",
   "metadata": {},
   "outputs": [
    {
     "name": "stdout",
     "output_type": "stream",
     "text": [
      "0 entries before import\n"
     ]
    },
    {
     "name": "stderr",
     "output_type": "stream",
     "text": [
      "/var/folders/qq/bxtnpx0n653clj2ykdvthbdm0000gn/T/ipykernel_60277/2069320411.py:10: DeprecationWarning: The default datetime adapter is deprecated as of Python 3.12; see the sqlite3 documentation for suggested replacement recipes\n",
      "  cursor.execute(\"\"\"\n"
     ]
    },
    {
     "name": "stdout",
     "output_type": "stream",
     "text": [
      "3277 entries after import\n",
      "3277 tweets imported\n"
     ]
    }
   ],
   "source": [
    "count_before = count_tweets()\n",
    "print(f\"{count_before} entries before import\")    \n",
    "\n",
    "await iterate_tweets(import_tweet)\n",
    "\n",
    "conn.commit()\n",
    "\n",
    "count_after = count_tweets()\n",
    "print(f\"{count_after} entries after import\")\n",
    "print(f\"{count_after - count_before} tweets imported\")"
   ]
  },
  {
   "cell_type": "code",
   "execution_count": 12,
   "id": "7008abe9-42e4-4f07-a077-4d5861d73b85",
   "metadata": {},
   "outputs": [],
   "source": [
    "from datetime import datetime"
   ]
  },
  {
   "cell_type": "code",
   "execution_count": 13,
   "id": "8fef2409-cdee-4149-a629-670a71ff4b9b",
   "metadata": {},
   "outputs": [
    {
     "name": "stderr",
     "output_type": "stream",
     "text": [
      "/var/folders/qq/bxtnpx0n653clj2ykdvthbdm0000gn/T/ipykernel_60277/2115353884.py:10: DeprecationWarning: The default datetime adapter is deprecated as of Python 3.12; see the sqlite3 documentation for suggested replacement recipes\n",
      "  cursor.execute(\"\"\"\n"
     ]
    }
   ],
   "source": [
    "# Create a table only if it doesn't already exist\n",
    "cursor.execute(\"\"\"\n",
    "    CREATE TABLE IF NOT EXISTS last_synchronized_at (\n",
    "        id INTEGER PRIMARY KEY CHECK (id = 1),\n",
    "        datetime TEXT\n",
    "    )\n",
    "\"\"\")\n",
    "\n",
    "ts = datetime.now()\n",
    "cursor.execute(\"\"\"\n",
    "    INSERT OR REPLACE INTO last_synchronized_at (id, datetime) VALUES (1, ?)\n",
    "\"\"\", (ts,))\n",
    "\n",
    "# Commit the changes\n",
    "conn.commit()"
   ]
  },
  {
   "cell_type": "code",
   "execution_count": 14,
   "id": "7613a726-ea15-4fd4-8880-94a9b8acafd0",
   "metadata": {},
   "outputs": [
    {
     "name": "stdout",
     "output_type": "stream",
     "text": [
      "Last updated at: 2024-10-19 21:50:50.944125\n"
     ]
    }
   ],
   "source": [
    "cursor.execute(\"SELECT datetime FROM last_synchronized_at WHERE id = 1\")\n",
    "ts = cursor.fetchone()[0]\n",
    "print(f\"Last updated at: {ts}\")"
   ]
  },
  {
   "cell_type": "code",
   "execution_count": 15,
   "id": "a975e2b2-8b81-4a51-8f6d-5769a141571d",
   "metadata": {},
   "outputs": [],
   "source": [
    "conn.close()"
   ]
  }
 ],
 "metadata": {
  "kernelspec": {
   "display_name": "Python 3 (ipykernel)",
   "language": "python",
   "name": "python3"
  },
  "language_info": {
   "codemirror_mode": {
    "name": "ipython",
    "version": 3
   },
   "file_extension": ".py",
   "mimetype": "text/x-python",
   "name": "python",
   "nbconvert_exporter": "python",
   "pygments_lexer": "ipython3",
   "version": "3.12.4"
  }
 },
 "nbformat": 4,
 "nbformat_minor": 5
}
