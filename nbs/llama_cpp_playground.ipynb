{
 "cells": [
  {
   "cell_type": "code",
   "execution_count": 2,
   "id": "46d80361-36b4-48d5-aac3-bcdb6462dd76",
   "metadata": {},
   "outputs": [],
   "source": [
    "from llama_cpp import Llama"
   ]
  },
  {
   "cell_type": "code",
   "execution_count": 29,
   "id": "5eccb34b-931d-413b-bb73-01606d416778",
   "metadata": {},
   "outputs": [],
   "source": [
    "llm = Llama(\n",
    "    model_path=\"../Phi-3-mini-4k-instruct-q4.gguf\",\n",
    "    n_ctx=4096,\n",
    "    verbose=False\n",
    ")"
   ]
  },
  {
   "cell_type": "code",
   "execution_count": 33,
   "id": "9dfd249e-400a-496a-97d1-ed5fb709d9df",
   "metadata": {},
   "outputs": [],
   "source": [
    "with open(\"../content/resume.md\") as f: resume = f.read()\n",
    "with open(\"../content/education.json\") as f: education = f.read()"
   ]
  },
  {
   "cell_type": "code",
   "execution_count": 35,
   "id": "55f7ef1f-cd3c-4605-a7ab-0bf91786daa9",
   "metadata": {},
   "outputs": [
    {
     "name": "stdout",
     "output_type": "stream",
     "text": [
      "assistant: Robin studied at several educational institutions. He completed his Bachelor of Sciences in Computer Science at Oxford Brookes University in the United Kingdom from 2009 to 2010. He then attended Polytech Nice-Sophia in France, where he studied Software Engineering, completing his year 1 in 2010, year 2 in 2011, and year 3 in 2012."
     ]
    }
   ],
   "source": [
    "output = llm.create_chat_completion(\n",
    "    messages = [\n",
    "        {\"role\": \"system\", \"content\": f\"You are an assistant who respond to questions about Robin Resume that is here in markdown: {content}. Also here is the education in json, note that this is in the reverse order (last school first): {education}\"},\n",
    "        {\n",
    "            \"role\": \"user\",\n",
    "            \"content\": \"Does robin knows how to deploy an app on kubernetes ?\"\n",
    "        },\n",
    "        {\n",
    "          \"role\": \"assistant\",\n",
    "          \"content\": \"Yes, based on the provided resume, Robin has experience with deploying applications on Kubernetes. Specifically, he led the full adoption of Kubernetes at Eventmaker to migrate away from a home-made PaaS. This project resulted in a more robust and scalable infrastructure, allowing Eventmaker to benefit from the Kubernetes ecosystem. While the resume does not detail the specifics of the deployment process, his leadership role in this migration indicates a strong understanding of Kubernetes deployment practices.\"\n",
    "        },\n",
    "        {\n",
    "            \"role\": \"user\",\n",
    "            \"content\": \"when did he led the full adoption of Kubernetes at Eventmaker ?\"\n",
    "        },\n",
    "        {\n",
    "            \"role\": \"assistant\",\n",
    "            \"content\": \"According to the resume, Robin led the full adoption of Kubernetes at Eventmaker from 2018 to 2021.\"\n",
    "        },\n",
    "        {\n",
    "            \"role\": \"user\",\n",
    "            \"content\": \"In which school did he studied ?\"\n",
    "        }\n",
    "        \n",
    "    ],\n",
    "    stream=True\n",
    ")\n",
    "\n",
    "for chunk in output:\n",
    "    delta = chunk['choices'][0]['delta']\n",
    "    if 'role' in delta:\n",
    "        print(delta['role'], end=': ')\n",
    "    elif 'content' in delta:\n",
    "        print(delta['content'], end='')"
   ]
  }
 ],
 "metadata": {
  "kernelspec": {
   "display_name": "Python 3 (ipykernel)",
   "language": "python",
   "name": "python3"
  },
  "language_info": {
   "codemirror_mode": {
    "name": "ipython",
    "version": 3
   },
   "file_extension": ".py",
   "mimetype": "text/x-python",
   "name": "python",
   "nbconvert_exporter": "python",
   "pygments_lexer": "ipython3",
   "version": "3.12.4"
  }
 },
 "nbformat": 4,
 "nbformat_minor": 5
}
